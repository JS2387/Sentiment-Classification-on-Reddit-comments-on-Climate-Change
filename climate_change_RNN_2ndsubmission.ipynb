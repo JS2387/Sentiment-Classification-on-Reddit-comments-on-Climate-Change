{
  "nbformat": 4,
  "nbformat_minor": 0,
  "metadata": {
    "colab": {
      "provenance": [],
      "authorship_tag": "ABX9TyMuRmA/W3J0X1sfAa4I/QU6",
      "include_colab_link": true
    },
    "kernelspec": {
      "name": "python3",
      "display_name": "Python 3"
    },
    "language_info": {
      "name": "python"
    },
    "accelerator": "GPU",
    "gpuClass": "premium"
  },
  "cells": [
    {
      "cell_type": "markdown",
      "metadata": {
        "id": "view-in-github",
        "colab_type": "text"
      },
      "source": [
        "<a href=\"https://colab.research.google.com/github/JS2387/Text-mining-project/blob/main/climate_change_RNN_2ndsubmission.ipynb\" target=\"_parent\"><img src=\"https://colab.research.google.com/assets/colab-badge.svg\" alt=\"Open In Colab\"/></a>"
      ]
    },
    {
      "cell_type": "code",
      "execution_count": 1,
      "metadata": {
        "colab": {
          "base_uri": "https://localhost:8080/"
        },
        "id": "8VDEJ36HOjIS",
        "outputId": "5852b98d-47b5-4c62-cca1-a490dd9af722"
      },
      "outputs": [
        {
          "output_type": "stream",
          "name": "stdout",
          "text": [
            "Mounted at /content/drive\n"
          ]
        }
      ],
      "source": [
        "from google.colab import drive\n",
        "drive.mount('/content/drive', force_remount = True)"
      ]
    },
    {
      "cell_type": "code",
      "source": [
        "!pip install Keras-Preprocessing\n",
        "!pip install spacy"
      ],
      "metadata": {
        "colab": {
          "base_uri": "https://localhost:8080/"
        },
        "id": "StwWxUeYc-_q",
        "outputId": "eec963e0-1ac7-42bd-eea9-2149d7d15e62"
      },
      "execution_count": 2,
      "outputs": [
        {
          "output_type": "stream",
          "name": "stdout",
          "text": [
            "Looking in indexes: https://pypi.org/simple, https://us-python.pkg.dev/colab-wheels/public/simple/\n",
            "Collecting Keras-Preprocessing\n",
            "  Downloading Keras_Preprocessing-1.1.2-py2.py3-none-any.whl (42 kB)\n",
            "\u001b[?25l     \u001b[90m━━━━━━━━━━━━━━━━━━━━━━━━━━━━━━━━━━━━━━━━\u001b[0m \u001b[32m0.0/42.6 KB\u001b[0m \u001b[31m?\u001b[0m eta \u001b[36m-:--:--\u001b[0m\r\u001b[2K     \u001b[90m━━━━━━━━━━━━━━━━━━━━━━━━━━━━━━━━━━━━━━━━\u001b[0m \u001b[32m42.6/42.6 KB\u001b[0m \u001b[31m2.6 MB/s\u001b[0m eta \u001b[36m0:00:00\u001b[0m\n",
            "\u001b[?25hRequirement already satisfied: six>=1.9.0 in /usr/local/lib/python3.9/dist-packages (from Keras-Preprocessing) (1.15.0)\n",
            "Requirement already satisfied: numpy>=1.9.1 in /usr/local/lib/python3.9/dist-packages (from Keras-Preprocessing) (1.22.4)\n",
            "Installing collected packages: Keras-Preprocessing\n",
            "Successfully installed Keras-Preprocessing-1.1.2\n",
            "Looking in indexes: https://pypi.org/simple, https://us-python.pkg.dev/colab-wheels/public/simple/\n",
            "Requirement already satisfied: spacy in /usr/local/lib/python3.9/dist-packages (3.5.1)\n",
            "Requirement already satisfied: typer<0.8.0,>=0.3.0 in /usr/local/lib/python3.9/dist-packages (from spacy) (0.7.0)\n",
            "Requirement already satisfied: spacy-loggers<2.0.0,>=1.0.0 in /usr/local/lib/python3.9/dist-packages (from spacy) (1.0.4)\n",
            "Requirement already satisfied: packaging>=20.0 in /usr/local/lib/python3.9/dist-packages (from spacy) (23.0)\n",
            "Requirement already satisfied: smart-open<7.0.0,>=5.2.1 in /usr/local/lib/python3.9/dist-packages (from spacy) (6.3.0)\n",
            "Requirement already satisfied: setuptools in /usr/local/lib/python3.9/dist-packages (from spacy) (63.4.3)\n",
            "Requirement already satisfied: catalogue<2.1.0,>=2.0.6 in /usr/local/lib/python3.9/dist-packages (from spacy) (2.0.8)\n",
            "Requirement already satisfied: preshed<3.1.0,>=3.0.2 in /usr/local/lib/python3.9/dist-packages (from spacy) (3.0.8)\n",
            "Requirement already satisfied: jinja2 in /usr/local/lib/python3.9/dist-packages (from spacy) (3.1.2)\n",
            "Requirement already satisfied: spacy-legacy<3.1.0,>=3.0.11 in /usr/local/lib/python3.9/dist-packages (from spacy) (3.0.12)\n",
            "Requirement already satisfied: tqdm<5.0.0,>=4.38.0 in /usr/local/lib/python3.9/dist-packages (from spacy) (4.65.0)\n",
            "Requirement already satisfied: pathy>=0.10.0 in /usr/local/lib/python3.9/dist-packages (from spacy) (0.10.1)\n",
            "Requirement already satisfied: srsly<3.0.0,>=2.4.3 in /usr/local/lib/python3.9/dist-packages (from spacy) (2.4.6)\n",
            "Requirement already satisfied: langcodes<4.0.0,>=3.2.0 in /usr/local/lib/python3.9/dist-packages (from spacy) (3.3.0)\n",
            "Requirement already satisfied: wasabi<1.2.0,>=0.9.1 in /usr/local/lib/python3.9/dist-packages (from spacy) (1.1.1)\n",
            "Requirement already satisfied: thinc<8.2.0,>=8.1.8 in /usr/local/lib/python3.9/dist-packages (from spacy) (8.1.9)\n",
            "Requirement already satisfied: requests<3.0.0,>=2.13.0 in /usr/local/lib/python3.9/dist-packages (from spacy) (2.27.1)\n",
            "Requirement already satisfied: cymem<2.1.0,>=2.0.2 in /usr/local/lib/python3.9/dist-packages (from spacy) (2.0.7)\n",
            "Requirement already satisfied: numpy>=1.15.0 in /usr/local/lib/python3.9/dist-packages (from spacy) (1.22.4)\n",
            "Requirement already satisfied: pydantic!=1.8,!=1.8.1,<1.11.0,>=1.7.4 in /usr/local/lib/python3.9/dist-packages (from spacy) (1.10.6)\n",
            "Requirement already satisfied: murmurhash<1.1.0,>=0.28.0 in /usr/local/lib/python3.9/dist-packages (from spacy) (1.0.9)\n",
            "Requirement already satisfied: typing-extensions>=4.2.0 in /usr/local/lib/python3.9/dist-packages (from pydantic!=1.8,!=1.8.1,<1.11.0,>=1.7.4->spacy) (4.5.0)\n",
            "Requirement already satisfied: urllib3<1.27,>=1.21.1 in /usr/local/lib/python3.9/dist-packages (from requests<3.0.0,>=2.13.0->spacy) (1.26.15)\n",
            "Requirement already satisfied: certifi>=2017.4.17 in /usr/local/lib/python3.9/dist-packages (from requests<3.0.0,>=2.13.0->spacy) (2022.12.7)\n",
            "Requirement already satisfied: charset-normalizer~=2.0.0 in /usr/local/lib/python3.9/dist-packages (from requests<3.0.0,>=2.13.0->spacy) (2.0.12)\n",
            "Requirement already satisfied: idna<4,>=2.5 in /usr/local/lib/python3.9/dist-packages (from requests<3.0.0,>=2.13.0->spacy) (3.4)\n",
            "Requirement already satisfied: confection<1.0.0,>=0.0.1 in /usr/local/lib/python3.9/dist-packages (from thinc<8.2.0,>=8.1.8->spacy) (0.0.4)\n",
            "Requirement already satisfied: blis<0.8.0,>=0.7.8 in /usr/local/lib/python3.9/dist-packages (from thinc<8.2.0,>=8.1.8->spacy) (0.7.9)\n",
            "Requirement already satisfied: click<9.0.0,>=7.1.1 in /usr/local/lib/python3.9/dist-packages (from typer<0.8.0,>=0.3.0->spacy) (8.1.3)\n",
            "Requirement already satisfied: MarkupSafe>=2.0 in /usr/local/lib/python3.9/dist-packages (from jinja2->spacy) (2.1.2)\n"
          ]
        }
      ]
    },
    {
      "cell_type": "code",
      "source": [
        "import pandas as pd\n",
        "import numpy as np\n",
        "import spacy\n",
        "import tensorflow as tf\n",
        "import keras as keras\n",
        "from tqdm import tqdm\n",
        "\n",
        "from sklearn.model_selection import train_test_split\n",
        "from sklearn.metrics import classification_report, accuracy_score, roc_auc_score, confusion_matrix, roc_curve, auc, precision_recall_curve, f1_score\n",
        "from sklearn.feature_extraction.text import TfidfVectorizer, CountVectorizer \n",
        "\n",
        "\n",
        "from keras.preprocessing.text import Tokenizer\n",
        "from keras_preprocessing.sequence import pad_sequences\n",
        "\n",
        "from keras.models import Sequential\n",
        "from keras.layers import LSTM, GRU,SimpleRNN\n",
        "from keras.layers.core import Dense, Activation, Dropout\n",
        "from keras.layers import Embedding\n",
        "from keras.layers import GlobalMaxPooling1D, Conv1D, MaxPooling1D, Flatten, Bidirectional, SpatialDropout1D\n",
        "from keras.layers import BatchNormalization\n",
        "from keras.callbacks import EarlyStopping"
      ],
      "metadata": {
        "id": "3mjrSU-yO-Ja"
      },
      "execution_count": 3,
      "outputs": []
    },
    {
      "cell_type": "code",
      "source": [
        "path = \"/content/drive/MyDrive/Colab Notebooks/the-reddit-climate-change-dataset-comments.csv\"\n",
        "data = pd.read_csv(path)"
      ],
      "metadata": {
        "id": "ZO5VVg8_O4Fu"
      },
      "execution_count": 4,
      "outputs": []
    },
    {
      "cell_type": "code",
      "source": [
        "df = data.sample(frac = 0.025, random_state = 123)\n",
        "df = df.dropna()\n",
        "df.info()"
      ],
      "metadata": {
        "colab": {
          "base_uri": "https://localhost:8080/"
        },
        "id": "KZbNBeRzPwsd",
        "outputId": "64f101a5-b010-4485-8a80-7b5c7ac92f5b"
      },
      "execution_count": 16,
      "outputs": [
        {
          "output_type": "stream",
          "name": "stdout",
          "text": [
            "<class 'pandas.core.frame.DataFrame'>\n",
            "Int64Index: 113640 entries, 1857107 to 2312689\n",
            "Data columns (total 10 columns):\n",
            " #   Column          Non-Null Count   Dtype  \n",
            "---  ------          --------------   -----  \n",
            " 0   type            113640 non-null  object \n",
            " 1   id              113640 non-null  object \n",
            " 2   subreddit.id    113640 non-null  object \n",
            " 3   subreddit.name  113640 non-null  object \n",
            " 4   subreddit.nsfw  113640 non-null  bool   \n",
            " 5   created_utc     113640 non-null  int64  \n",
            " 6   permalink       113640 non-null  object \n",
            " 7   body            113640 non-null  object \n",
            " 8   sentiment       113640 non-null  float64\n",
            " 9   score           113640 non-null  int64  \n",
            "dtypes: bool(1), float64(1), int64(2), object(6)\n",
            "memory usage: 8.8+ MB\n"
          ]
        }
      ]
    },
    {
      "cell_type": "code",
      "source": [
        "def create_label(sentiment):\n",
        "    if sentiment < 0:\n",
        "        return 0 # NEGATIVE SENTIMENT\n",
        "    else:\n",
        "        return 1 # POSITIVE SENTIMENT"
      ],
      "metadata": {
        "id": "Aoqc0aXPP3o1"
      },
      "execution_count": 17,
      "outputs": []
    },
    {
      "cell_type": "code",
      "source": [
        "df['label'] = df['sentiment'].apply(create_label)\n",
        "df = df[['body', 'label']]\n",
        "df = df.reset_index(drop = True)\n",
        "df.head()"
      ],
      "metadata": {
        "colab": {
          "base_uri": "https://localhost:8080/",
          "height": 206
        },
        "id": "1DSWjHXlP6CE",
        "outputId": "5041b46a-bd3b-4fc1-c022-1928647f4906"
      },
      "execution_count": 18,
      "outputs": [
        {
          "output_type": "execute_result",
          "data": {
            "text/plain": [
              "                                                body  label\n",
              "0  A person's beliefs and needs shift based on ci...      1\n",
              "1  I guess I don't understand what that has to do...      1\n",
              "2  &gt;climate change will be way worse\\n\\nThere ...      0\n",
              "3  The fire itself may have been caused by climat...      0\n",
              "4  This has been a really interesting and informa...      1"
            ],
            "text/html": [
              "\n",
              "  <div id=\"df-72782b01-81a2-437a-b24e-db79780da08d\">\n",
              "    <div class=\"colab-df-container\">\n",
              "      <div>\n",
              "<style scoped>\n",
              "    .dataframe tbody tr th:only-of-type {\n",
              "        vertical-align: middle;\n",
              "    }\n",
              "\n",
              "    .dataframe tbody tr th {\n",
              "        vertical-align: top;\n",
              "    }\n",
              "\n",
              "    .dataframe thead th {\n",
              "        text-align: right;\n",
              "    }\n",
              "</style>\n",
              "<table border=\"1\" class=\"dataframe\">\n",
              "  <thead>\n",
              "    <tr style=\"text-align: right;\">\n",
              "      <th></th>\n",
              "      <th>body</th>\n",
              "      <th>label</th>\n",
              "    </tr>\n",
              "  </thead>\n",
              "  <tbody>\n",
              "    <tr>\n",
              "      <th>0</th>\n",
              "      <td>A person's beliefs and needs shift based on ci...</td>\n",
              "      <td>1</td>\n",
              "    </tr>\n",
              "    <tr>\n",
              "      <th>1</th>\n",
              "      <td>I guess I don't understand what that has to do...</td>\n",
              "      <td>1</td>\n",
              "    </tr>\n",
              "    <tr>\n",
              "      <th>2</th>\n",
              "      <td>&amp;gt;climate change will be way worse\\n\\nThere ...</td>\n",
              "      <td>0</td>\n",
              "    </tr>\n",
              "    <tr>\n",
              "      <th>3</th>\n",
              "      <td>The fire itself may have been caused by climat...</td>\n",
              "      <td>0</td>\n",
              "    </tr>\n",
              "    <tr>\n",
              "      <th>4</th>\n",
              "      <td>This has been a really interesting and informa...</td>\n",
              "      <td>1</td>\n",
              "    </tr>\n",
              "  </tbody>\n",
              "</table>\n",
              "</div>\n",
              "      <button class=\"colab-df-convert\" onclick=\"convertToInteractive('df-72782b01-81a2-437a-b24e-db79780da08d')\"\n",
              "              title=\"Convert this dataframe to an interactive table.\"\n",
              "              style=\"display:none;\">\n",
              "        \n",
              "  <svg xmlns=\"http://www.w3.org/2000/svg\" height=\"24px\"viewBox=\"0 0 24 24\"\n",
              "       width=\"24px\">\n",
              "    <path d=\"M0 0h24v24H0V0z\" fill=\"none\"/>\n",
              "    <path d=\"M18.56 5.44l.94 2.06.94-2.06 2.06-.94-2.06-.94-.94-2.06-.94 2.06-2.06.94zm-11 1L8.5 8.5l.94-2.06 2.06-.94-2.06-.94L8.5 2.5l-.94 2.06-2.06.94zm10 10l.94 2.06.94-2.06 2.06-.94-2.06-.94-.94-2.06-.94 2.06-2.06.94z\"/><path d=\"M17.41 7.96l-1.37-1.37c-.4-.4-.92-.59-1.43-.59-.52 0-1.04.2-1.43.59L10.3 9.45l-7.72 7.72c-.78.78-.78 2.05 0 2.83L4 21.41c.39.39.9.59 1.41.59.51 0 1.02-.2 1.41-.59l7.78-7.78 2.81-2.81c.8-.78.8-2.07 0-2.86zM5.41 20L4 18.59l7.72-7.72 1.47 1.35L5.41 20z\"/>\n",
              "  </svg>\n",
              "      </button>\n",
              "      \n",
              "  <style>\n",
              "    .colab-df-container {\n",
              "      display:flex;\n",
              "      flex-wrap:wrap;\n",
              "      gap: 12px;\n",
              "    }\n",
              "\n",
              "    .colab-df-convert {\n",
              "      background-color: #E8F0FE;\n",
              "      border: none;\n",
              "      border-radius: 50%;\n",
              "      cursor: pointer;\n",
              "      display: none;\n",
              "      fill: #1967D2;\n",
              "      height: 32px;\n",
              "      padding: 0 0 0 0;\n",
              "      width: 32px;\n",
              "    }\n",
              "\n",
              "    .colab-df-convert:hover {\n",
              "      background-color: #E2EBFA;\n",
              "      box-shadow: 0px 1px 2px rgba(60, 64, 67, 0.3), 0px 1px 3px 1px rgba(60, 64, 67, 0.15);\n",
              "      fill: #174EA6;\n",
              "    }\n",
              "\n",
              "    [theme=dark] .colab-df-convert {\n",
              "      background-color: #3B4455;\n",
              "      fill: #D2E3FC;\n",
              "    }\n",
              "\n",
              "    [theme=dark] .colab-df-convert:hover {\n",
              "      background-color: #434B5C;\n",
              "      box-shadow: 0px 1px 3px 1px rgba(0, 0, 0, 0.15);\n",
              "      filter: drop-shadow(0px 1px 2px rgba(0, 0, 0, 0.3));\n",
              "      fill: #FFFFFF;\n",
              "    }\n",
              "  </style>\n",
              "\n",
              "      <script>\n",
              "        const buttonEl =\n",
              "          document.querySelector('#df-72782b01-81a2-437a-b24e-db79780da08d button.colab-df-convert');\n",
              "        buttonEl.style.display =\n",
              "          google.colab.kernel.accessAllowed ? 'block' : 'none';\n",
              "\n",
              "        async function convertToInteractive(key) {\n",
              "          const element = document.querySelector('#df-72782b01-81a2-437a-b24e-db79780da08d');\n",
              "          const dataTable =\n",
              "            await google.colab.kernel.invokeFunction('convertToInteractive',\n",
              "                                                     [key], {});\n",
              "          if (!dataTable) return;\n",
              "\n",
              "          const docLinkHtml = 'Like what you see? Visit the ' +\n",
              "            '<a target=\"_blank\" href=https://colab.research.google.com/notebooks/data_table.ipynb>data table notebook</a>'\n",
              "            + ' to learn more about interactive tables.';\n",
              "          element.innerHTML = '';\n",
              "          dataTable['output_type'] = 'display_data';\n",
              "          await google.colab.output.renderOutput(dataTable, element);\n",
              "          const docLink = document.createElement('div');\n",
              "          docLink.innerHTML = docLinkHtml;\n",
              "          element.appendChild(docLink);\n",
              "        }\n",
              "      </script>\n",
              "    </div>\n",
              "  </div>\n",
              "  "
            ]
          },
          "metadata": {},
          "execution_count": 18
        }
      ]
    },
    {
      "cell_type": "code",
      "source": [
        "import spacy.cli\n",
        "spacy.cli.download(\"en_core_web_lg\")\n",
        "import en_core_web_lg\n",
        "nlp = en_core_web_lg.load()"
      ],
      "metadata": {
        "colab": {
          "base_uri": "https://localhost:8080/"
        },
        "id": "f9q-TJXzt3e7",
        "outputId": "48340e1b-98e4-4651-80fa-d3d3b252c032"
      },
      "execution_count": 12,
      "outputs": [
        {
          "output_type": "stream",
          "name": "stdout",
          "text": [
            "\u001b[38;5;2m✔ Download and installation successful\u001b[0m\n",
            "You can now load the package via spacy.load('en_core_web_lg')\n"
          ]
        }
      ]
    },
    {
      "cell_type": "code",
      "source": [
        "nlp = spacy.load('en_core_web_lg')\n",
        "nlp.Defaults.stop_words -= {\"no\", \"not\"}\n",
        "\n",
        "def preprocess_text(text):\n",
        "    doc = nlp(text)\n",
        "    # Remove stop words and punctuation\n",
        "    tokens = [token.text.lower() for token in doc if not token.is_stop and not token.is_punct and not token.like_url]\n",
        "    return ' '.join(tokens)"
      ],
      "metadata": {
        "id": "YpTUVHI4qwEJ"
      },
      "execution_count": 13,
      "outputs": []
    },
    {
      "cell_type": "code",
      "source": [
        "df['body'] = df['body'].apply(preprocess_text)"
      ],
      "metadata": {
        "id": "ONKmgQDKu28R"
      },
      "execution_count": 19,
      "outputs": []
    },
    {
      "cell_type": "code",
      "source": [
        "df.body[525]"
      ],
      "metadata": {
        "colab": {
          "base_uri": "https://localhost:8080/",
          "height": 36
        },
        "id": "Az9YG4uv6X10",
        "outputId": "24452bf2-1b7a-4849-c48a-6151b622b5af"
      },
      "execution_count": 20,
      "outputs": [
        {
          "output_type": "execute_result",
          "data": {
            "text/plain": [
              "'point x number companies responsible basically climate change excuse means individual changes behavior pointless support structural change'"
            ],
            "application/vnd.google.colaboratory.intrinsic+json": {
              "type": "string"
            }
          },
          "metadata": {},
          "execution_count": 20
        }
      ]
    },
    {
      "cell_type": "code",
      "source": [
        "df.body.apply(lambda x:len(str(x).split())).max()"
      ],
      "metadata": {
        "colab": {
          "base_uri": "https://localhost:8080/"
        },
        "id": "NZj5limFP8Bc",
        "outputId": "a0f6079b-1d0b-49b2-b7ae-75f7b4dda739"
      },
      "execution_count": 21,
      "outputs": [
        {
          "output_type": "execute_result",
          "data": {
            "text/plain": [
              "1256"
            ]
          },
          "metadata": {},
          "execution_count": 21
        }
      ]
    },
    {
      "cell_type": "code",
      "source": [
        "#for testing re-runs\n",
        "df1 = df.copy()"
      ],
      "metadata": {
        "id": "JkxSwrPN7C6d"
      },
      "execution_count": 22,
      "outputs": []
    },
    {
      "cell_type": "code",
      "source": [
        "#resetting df if tests need to be repeated\n",
        "df = df1.copy()\n",
        "df = df.sample(frac=0.5)\n",
        "df.info()"
      ],
      "metadata": {
        "colab": {
          "base_uri": "https://localhost:8080/"
        },
        "id": "jxCtN63J_T9E",
        "outputId": "4f7b4af9-30c3-45be-c40a-263a88b1f496"
      },
      "execution_count": 52,
      "outputs": [
        {
          "output_type": "stream",
          "name": "stdout",
          "text": [
            "<class 'pandas.core.frame.DataFrame'>\n",
            "Int64Index: 56820 entries, 31081 to 110143\n",
            "Data columns (total 2 columns):\n",
            " #   Column  Non-Null Count  Dtype \n",
            "---  ------  --------------  ----- \n",
            " 0   body    56820 non-null  object\n",
            " 1   label   56820 non-null  int64 \n",
            "dtypes: int64(1), object(1)\n",
            "memory usage: 1.3+ MB\n"
          ]
        }
      ]
    },
    {
      "cell_type": "code",
      "source": [
        "#check labe distribution\n",
        "df.label.value_counts()"
      ],
      "metadata": {
        "colab": {
          "base_uri": "https://localhost:8080/"
        },
        "id": "k-cYCm6a_yKB",
        "outputId": "80a014e0-5254-40be-f3d4-4ea372958dd6"
      },
      "execution_count": 53,
      "outputs": [
        {
          "output_type": "execute_result",
          "data": {
            "text/plain": [
              "1    29951\n",
              "0    26869\n",
              "Name: label, dtype: int64"
            ]
          },
          "metadata": {},
          "execution_count": 53
        }
      ]
    },
    {
      "cell_type": "markdown",
      "source": [
        "# ML Classifiers"
      ],
      "metadata": {
        "id": "YBzS_G0O6wEU"
      }
    },
    {
      "cell_type": "code",
      "source": [
        "# Vectorize the comments\n",
        "vectorizer = CountVectorizer()\n",
        "\n",
        "X = vectorizer.fit_transform(df.body)\n",
        "X.shape\n",
        "\n",
        "Y = df.label"
      ],
      "metadata": {
        "id": "YXOorMKs6pTr"
      },
      "execution_count": 54,
      "outputs": []
    },
    {
      "cell_type": "code",
      "source": [
        "X_train, X_test, Y_train, Y_test = train_test_split(X, Y, test_size = 0.5, random_state = 123, stratify = Y)"
      ],
      "metadata": {
        "id": "qky74Q5165SD"
      },
      "execution_count": 55,
      "outputs": []
    },
    {
      "cell_type": "code",
      "source": [
        "# Classifiers\n",
        "\n",
        "from sklearn.dummy import DummyClassifier\n",
        "from sklearn.naive_bayes import MultinomialNB\n",
        "from sklearn.linear_model import LogisticRegressionCV\n",
        "from sklearn.linear_model import SGDClassifier\n",
        "from sklearn.svm import SVC\n",
        "from sklearn.ensemble import RandomForestClassifier, VotingClassifier, AdaBoostClassifier\n",
        "from sklearn.linear_model import LogisticRegression\n",
        "from xgboost import XGBClassifier\n",
        "from sklearn.metrics import classification_report\n",
        "\n",
        "# Dummy CLassifier\n",
        "#DC = DummyClassifier(strategy = 'stratified') \n",
        "\n",
        "# Naive Bayes\n",
        "clf_NB = MultinomialNB()\n",
        "\n",
        "# Logisitic Regression\n",
        "clf_LogR = LogisticRegression(max_iter=1000)\n",
        "\n",
        "# Logistic Regression with CV\n",
        "#clf_LogRCV = LogisticRegressionCV(max_iter = 1000)\n",
        "\n",
        "# SGD\n",
        "#clf_sgd = SGDClassifier(tol=1e-3)\n",
        "\n",
        "# SVC\n",
        "#clf_svc = SVC(decision_function_shape = 'ovo')\n",
        "\n",
        "# Random Forest\n",
        "#clf_RF = RandomForestClassifier(random_state=42, n_estimators=100)\n",
        "\n",
        "# Adaptive Boosting\n",
        "#clf_AdaB = AdaBoostClassifier(random_state=42, n_estimators=100, learning_rate=0.9)\n",
        "\n",
        "# xGBoost\n",
        "clf_xGB = XGBClassifier(n_estimators=100, max_depth=10, learning_rate=0.1)\n",
        "\n",
        "# Ensemble classifier\n",
        "#ensemble_clf = VotingClassifier(estimators=[\n",
        "#    ('RF_clf', clf_RF),\n",
        "#    ('AdaB_clf', clf_AdaB),\n",
        "#    ('xGB_clf', clf_xGB)\n",
        "#    ], voting='soft')"
      ],
      "metadata": {
        "id": "58MJQw0A7Bh6"
      },
      "execution_count": 56,
      "outputs": []
    },
    {
      "cell_type": "code",
      "source": [
        "# Naive bayes\n",
        "clf_NB.fit(X_train, Y_train)\n",
        "pred_NB = clf_NB.predict(X_test)\n",
        "print(classification_report(Y_test, pred_NB))"
      ],
      "metadata": {
        "colab": {
          "base_uri": "https://localhost:8080/"
        },
        "id": "q8UKjA0B7Tuz",
        "outputId": "8950a107-6a5a-47ce-e9e6-6844771b9bf9"
      },
      "execution_count": 57,
      "outputs": [
        {
          "output_type": "stream",
          "name": "stdout",
          "text": [
            "              precision    recall  f1-score   support\n",
            "\n",
            "           0       0.67      0.76      0.71     13435\n",
            "           1       0.76      0.66      0.70     14975\n",
            "\n",
            "    accuracy                           0.71     28410\n",
            "   macro avg       0.71      0.71      0.71     28410\n",
            "weighted avg       0.71      0.71      0.71     28410\n",
            "\n"
          ]
        }
      ]
    },
    {
      "cell_type": "code",
      "source": [
        "# Logisitic Regression\n",
        "clf_LogR.fit(X_train, Y_train)\n",
        "pred_LogR = clf_LogR.predict(X_test)\n",
        "print(classification_report(Y_test, pred_LogR))"
      ],
      "metadata": {
        "colab": {
          "base_uri": "https://localhost:8080/"
        },
        "id": "sCJgqL1j7WID",
        "outputId": "6d933b0b-fc5e-4765-be3c-e36035f75d3a"
      },
      "execution_count": 58,
      "outputs": [
        {
          "output_type": "stream",
          "name": "stdout",
          "text": [
            "              precision    recall  f1-score   support\n",
            "\n",
            "           0       0.81      0.76      0.78     13435\n",
            "           1       0.80      0.84      0.82     14975\n",
            "\n",
            "    accuracy                           0.80     28410\n",
            "   macro avg       0.80      0.80      0.80     28410\n",
            "weighted avg       0.80      0.80      0.80     28410\n",
            "\n"
          ]
        }
      ]
    },
    {
      "cell_type": "code",
      "source": [
        "# xGBoost\n",
        "clf_xGB.fit(X_train, Y_train)\n",
        "pred_xGB = clf_xGB.predict(X_test)\n",
        "print(classification_report(Y_test, pred_xGB))"
      ],
      "metadata": {
        "colab": {
          "base_uri": "https://localhost:8080/"
        },
        "id": "c7BtKJmI7c9L",
        "outputId": "d24e66fe-29a6-4854-8d1d-99f445efc649"
      },
      "execution_count": 59,
      "outputs": [
        {
          "output_type": "stream",
          "name": "stdout",
          "text": [
            "              precision    recall  f1-score   support\n",
            "\n",
            "           0       0.77      0.65      0.71     13435\n",
            "           1       0.73      0.82      0.77     14975\n",
            "\n",
            "    accuracy                           0.74     28410\n",
            "   macro avg       0.75      0.74      0.74     28410\n",
            "weighted avg       0.75      0.74      0.74     28410\n",
            "\n"
          ]
        }
      ]
    },
    {
      "cell_type": "markdown",
      "source": [
        "# RNNs"
      ],
      "metadata": {
        "id": "HvaMH13e7mxi"
      }
    },
    {
      "cell_type": "markdown",
      "source": [
        "## Tokenize"
      ],
      "metadata": {
        "id": "Vvwm-ph7TETF"
      }
    },
    {
      "cell_type": "code",
      "source": [
        "train_text, test_text, train_labels, test_labels = train_test_split(df['body'], df['label'], test_size=0.25, random_state=123)\n",
        "train_text, valid_text, train_labels, valid_labels = train_test_split(train_text, train_labels, test_size=0.33, random_state=123)\n",
        "\n"
      ],
      "metadata": {
        "id": "zGdOkWDu_38A"
      },
      "execution_count": 60,
      "outputs": []
    },
    {
      "cell_type": "code",
      "source": [
        "# Tokenize the text data\n",
        "tokenizer = Tokenizer(num_words=5000)\n",
        "tokenizer.fit_on_texts(train_text)\n",
        "\n",
        "train_sequences = tokenizer.texts_to_sequences(train_text)\n",
        "valid_sequences = tokenizer.texts_to_sequences(valid_text)\n",
        "test_sequences = tokenizer.texts_to_sequences(test_text)\n",
        "\n",
        "# Pad the sequences\n",
        "max_length = 100\n",
        "train_data = pad_sequences(train_sequences, maxlen=max_length)\n",
        "valid_data = pad_sequences(valid_sequences, maxlen=max_length)\n",
        "test_data = pad_sequences(test_sequences, maxlen=max_length)"
      ],
      "metadata": {
        "id": "8ThWRs3aEMTL"
      },
      "execution_count": 61,
      "outputs": []
    },
    {
      "cell_type": "markdown",
      "source": [
        "## Simple RNN"
      ],
      "metadata": {
        "id": "YVZJv2dZTIXj"
      }
    },
    {
      "cell_type": "code",
      "source": [
        "# A simpleRNN without any pretrained embeddings and one dense layer\n",
        "model1 = Sequential()\n",
        "model1.add(Embedding(input_dim=5000, output_dim=128, input_length=max_length))\n",
        "model1.add(SimpleRNN(units=64, dropout=0.2))\n",
        "model1.add(Dense(units=1, activation='sigmoid'))\n",
        "    \n",
        "# Compile the model\n",
        "model1.compile(loss='binary_crossentropy', optimizer='adam', metrics=['accuracy'])\n",
        "\n",
        "\n",
        "model1.summary()\n",
        "\n",
        "# Train the model\n",
        "history1 = model1.fit(train_data, train_labels, validation_data=(valid_data, valid_labels), epochs=10, batch_size=64, callbacks=[EarlyStopping(patience=3)])"
      ],
      "metadata": {
        "colab": {
          "base_uri": "https://localhost:8080/"
        },
        "id": "_wfrSPagSmKU",
        "outputId": "e19ca298-ac68-4101-92d8-15b97dfc0a05"
      },
      "execution_count": 104,
      "outputs": [
        {
          "output_type": "stream",
          "name": "stdout",
          "text": [
            "Model: \"sequential_20\"\n",
            "_________________________________________________________________\n",
            " Layer (type)                Output Shape              Param #   \n",
            "=================================================================\n",
            " embedding_19 (Embedding)    (None, 100, 128)          640000    \n",
            "                                                                 \n",
            " simple_rnn (SimpleRNN)      (None, 64)                12352     \n",
            "                                                                 \n",
            " dense_19 (Dense)            (None, 1)                 65        \n",
            "                                                                 \n",
            "=================================================================\n",
            "Total params: 652,417\n",
            "Trainable params: 652,417\n",
            "Non-trainable params: 0\n",
            "_________________________________________________________________\n",
            "Epoch 1/10\n",
            "447/447 [==============================] - 71s 154ms/step - loss: 0.6237 - accuracy: 0.6357 - val_loss: 0.5531 - val_accuracy: 0.7241\n",
            "Epoch 2/10\n",
            "447/447 [==============================] - 51s 114ms/step - loss: 0.4274 - accuracy: 0.8084 - val_loss: 0.5596 - val_accuracy: 0.7382\n",
            "Epoch 3/10\n",
            "447/447 [==============================] - 48s 107ms/step - loss: 0.2522 - accuracy: 0.8986 - val_loss: 0.6674 - val_accuracy: 0.7373\n",
            "Epoch 4/10\n",
            "447/447 [==============================] - 45s 102ms/step - loss: 0.1331 - accuracy: 0.9509 - val_loss: 0.8826 - val_accuracy: 0.7154\n"
          ]
        }
      ]
    },
    {
      "cell_type": "code",
      "source": [
        "# Evaluate the model\n",
        "y_pred = model1.predict(test_data)\n",
        "y_pred[y_pred < 0.5] = 0\n",
        "y_pred[y_pred >= 0.5] = 1\n",
        "f1 = f1_score(test_labels, y_pred)\n",
        "\n",
        "print(\"Test F1 score:\", f1)\n",
        "\n",
        "scores_model = []\n",
        "scores_model.append({'Model': 'SimpleRNN','F1Score': f1})"
      ],
      "metadata": {
        "colab": {
          "base_uri": "https://localhost:8080/"
        },
        "id": "czbsw_FYSsUF",
        "outputId": "e5c7a2cd-bb33-4708-b98d-240d1aab42c5"
      },
      "execution_count": 108,
      "outputs": [
        {
          "output_type": "stream",
          "name": "stdout",
          "text": [
            "444/444 [==============================] - 4s 10ms/step\n",
            "Test F1 score: 0.7226845637583892\n"
          ]
        }
      ]
    },
    {
      "cell_type": "markdown",
      "source": [
        "## Word Embeddings from GloVe"
      ],
      "metadata": {
        "id": "-ElOHkB3TNWs"
      }
    },
    {
      "cell_type": "code",
      "source": [
        "import locale\n",
        "def getpreferredencoding(do_setlocale = True):\n",
        "    return \"UTF-8\"\n",
        "locale.getpreferredencoding = getpreferredencoding"
      ],
      "metadata": {
        "id": "c9AR-t75x6GF"
      },
      "execution_count": 39,
      "outputs": []
    },
    {
      "cell_type": "code",
      "source": [
        "#!wget https://nlp.stanford.edu/data/glove.6B.zip\n",
        "#!unzip glove*.zip\n",
        "!wget https://nlp.stanford.edu/data/glove.twitter.27B.zip\n",
        "!unzip glove.twitter.27B.zip\n",
        "!ls\n",
        "!pwd"
      ],
      "metadata": {
        "colab": {
          "base_uri": "https://localhost:8080/"
        },
        "id": "CQnnm7Z6Qkul",
        "outputId": "864d0139-334a-46fd-bac3-ba47416bce6f"
      },
      "execution_count": 40,
      "outputs": [
        {
          "output_type": "stream",
          "name": "stdout",
          "text": [
            "--2023-03-19 20:47:07--  https://nlp.stanford.edu/data/glove.twitter.27B.zip\n",
            "Resolving nlp.stanford.edu (nlp.stanford.edu)... 171.64.67.140\n",
            "Connecting to nlp.stanford.edu (nlp.stanford.edu)|171.64.67.140|:443... connected.\n",
            "HTTP request sent, awaiting response... 301 Moved Permanently\n",
            "Location: https://downloads.cs.stanford.edu/nlp/data/glove.twitter.27B.zip [following]\n",
            "--2023-03-19 20:47:07--  https://downloads.cs.stanford.edu/nlp/data/glove.twitter.27B.zip\n",
            "Resolving downloads.cs.stanford.edu (downloads.cs.stanford.edu)... 171.64.64.22\n",
            "Connecting to downloads.cs.stanford.edu (downloads.cs.stanford.edu)|171.64.64.22|:443... connected.\n",
            "HTTP request sent, awaiting response... 200 OK\n",
            "Length: 1520408563 (1.4G) [application/zip]\n",
            "Saving to: ‘glove.twitter.27B.zip’\n",
            "\n",
            "glove.twitter.27B.z 100%[===================>]   1.42G  5.00MB/s    in 4m 44s  \n",
            "\n",
            "2023-03-19 20:51:52 (5.10 MB/s) - ‘glove.twitter.27B.zip’ saved [1520408563/1520408563]\n",
            "\n",
            "Archive:  glove.twitter.27B.zip\n",
            "  inflating: glove.twitter.27B.25d.txt  \n",
            "  inflating: glove.twitter.27B.50d.txt  \n",
            "  inflating: glove.twitter.27B.100d.txt  \n",
            "  inflating: glove.twitter.27B.200d.txt  \n",
            "drive\t\t\t    glove.twitter.27B.25d.txt  sample_data\n",
            "glove.twitter.27B.100d.txt  glove.twitter.27B.50d.txt\n",
            "glove.twitter.27B.200d.txt  glove.twitter.27B.zip\n",
            "/content\n"
          ]
        }
      ]
    },
    {
      "cell_type": "code",
      "source": [
        "# Define maximum sequence length and embedding dimension\n",
        "MAX_SEQUENCE_LENGTH = 100\n",
        "EMBEDDING_DIM = 100"
      ],
      "metadata": {
        "id": "OoyUi5hbUv1B"
      },
      "execution_count": 41,
      "outputs": []
    },
    {
      "cell_type": "code",
      "source": [
        "# load the GloVe vectors in a dictionary:\n",
        "\n",
        "embeddings_index = {}\n",
        "f = open('/content/glove.twitter.27B.100d.txt','r',encoding='utf-8')\n",
        "for line in tqdm(f):\n",
        "    values = line.split(' ')\n",
        "    word = values[0]\n",
        "    coefs = np.asarray([float(val) for val in values[1:]])\n",
        "    embeddings_index[word] = coefs\n",
        "f.close()\n",
        "\n",
        "print('Found %s word vectors.' % len(embeddings_index))"
      ],
      "metadata": {
        "colab": {
          "base_uri": "https://localhost:8080/"
        },
        "id": "S7QcAt4bQET1",
        "outputId": "58f86998-e35c-4c54-8bec-256e41c71462"
      },
      "execution_count": 42,
      "outputs": [
        {
          "output_type": "stream",
          "name": "stderr",
          "text": [
            "1193514it [00:37, 31872.09it/s]"
          ]
        },
        {
          "output_type": "stream",
          "name": "stdout",
          "text": [
            "Found 1193514 word vectors.\n"
          ]
        },
        {
          "output_type": "stream",
          "name": "stderr",
          "text": [
            "\n"
          ]
        }
      ]
    },
    {
      "cell_type": "code",
      "source": [
        "# Create embedding matrix\n",
        "word_index = tokenizer.word_index\n",
        "num_words = len(word_index) + 1\n",
        "embedding_matrix = np.zeros((num_words, EMBEDDING_DIM))\n",
        "for word, i in word_index.items():\n",
        "    if i >= num_words:\n",
        "        continue\n",
        "    embedding_vector = embeddings_index.get(word)\n",
        "    if embedding_vector is not None:\n",
        "        embedding_matrix[i] = embedding_vector"
      ],
      "metadata": {
        "id": "X0-SjWh_BHow"
      },
      "execution_count": 43,
      "outputs": []
    },
    {
      "cell_type": "code",
      "source": [
        "# Convert text data to sequences and pad sequences\n",
        "X_train_seq = pad_sequences(tokenizer.texts_to_sequences(train_text), maxlen=MAX_SEQUENCE_LENGTH)\n",
        "X_valid_seq = pad_sequences(tokenizer.texts_to_sequences(valid_text), maxlen=MAX_SEQUENCE_LENGTH)\n",
        "X_test_seq = pad_sequences(tokenizer.texts_to_sequences(test_text), maxlen=MAX_SEQUENCE_LENGTH)\n"
      ],
      "metadata": {
        "id": "oqrTa4skU9Mg"
      },
      "execution_count": 66,
      "outputs": []
    },
    {
      "cell_type": "code",
      "source": [
        "# Define and train an LSTM model\n",
        "model2 = Sequential()\n",
        "model2.add(Embedding(len(word_index) + 1, \n",
        "                     EMBEDDING_DIM, \n",
        "                     weights=[embedding_matrix], \n",
        "                     input_length=MAX_SEQUENCE_LENGTH, \n",
        "                     trainable=False))\n",
        "model2.add(LSTM(units=128, dropout=0.2, return_sequences=True))\n",
        "model2.add(LSTM(units=64, dropout=0.2))\n",
        "model2.add(Dense(1, activation='sigmoid'))\n",
        "\n",
        "# Compile model\n",
        "model2.compile(optimizer='adam', loss='binary_crossentropy', metrics=['accuracy'])\n",
        "\n",
        "model2.summary()\n",
        "\n",
        "history2 = model2.fit(X_train_seq, train_labels, validation_data=(X_valid_seq, valid_labels), epochs=10, batch_size=64, callbacks=[EarlyStopping(patience=3)])"
      ],
      "metadata": {
        "colab": {
          "base_uri": "https://localhost:8080/"
        },
        "id": "QPabAH2rA5lh",
        "outputId": "dfee780d-1ce0-45cf-e460-07e4432d9a70"
      },
      "execution_count": 109,
      "outputs": [
        {
          "output_type": "stream",
          "name": "stdout",
          "text": [
            "Model: \"sequential_22\"\n",
            "_________________________________________________________________\n",
            " Layer (type)                Output Shape              Param #   \n",
            "=================================================================\n",
            " embedding_21 (Embedding)    (None, 100, 100)          8376300   \n",
            "                                                                 \n",
            " lstm_17 (LSTM)              (None, 100, 128)          117248    \n",
            "                                                                 \n",
            " lstm_18 (LSTM)              (None, 64)                49408     \n",
            "                                                                 \n",
            " dense_21 (Dense)            (None, 1)                 65        \n",
            "                                                                 \n",
            "=================================================================\n",
            "Total params: 8,543,021\n",
            "Trainable params: 166,721\n",
            "Non-trainable params: 8,376,300\n",
            "_________________________________________________________________\n",
            "Epoch 1/10\n",
            "447/447 [==============================] - 10s 14ms/step - loss: 0.6853 - accuracy: 0.5488 - val_loss: 0.6804 - val_accuracy: 0.5785\n",
            "Epoch 2/10\n",
            "447/447 [==============================] - 5s 12ms/step - loss: 0.6628 - accuracy: 0.5989 - val_loss: 0.6763 - val_accuracy: 0.5692\n",
            "Epoch 3/10\n",
            "447/447 [==============================] - 5s 12ms/step - loss: 0.6365 - accuracy: 0.6407 - val_loss: 0.6245 - val_accuracy: 0.6536\n",
            "Epoch 4/10\n",
            "447/447 [==============================] - 5s 12ms/step - loss: 0.6030 - accuracy: 0.6762 - val_loss: 0.6038 - val_accuracy: 0.6789\n",
            "Epoch 5/10\n",
            "447/447 [==============================] - 5s 12ms/step - loss: 0.5676 - accuracy: 0.7086 - val_loss: 0.5776 - val_accuracy: 0.6976\n",
            "Epoch 6/10\n",
            "447/447 [==============================] - 5s 12ms/step - loss: 0.5414 - accuracy: 0.7277 - val_loss: 0.5693 - val_accuracy: 0.7074\n",
            "Epoch 7/10\n",
            "447/447 [==============================] - 6s 13ms/step - loss: 0.5122 - accuracy: 0.7493 - val_loss: 0.5653 - val_accuracy: 0.7136\n",
            "Epoch 8/10\n",
            "447/447 [==============================] - 6s 13ms/step - loss: 0.4947 - accuracy: 0.7585 - val_loss: 0.5778 - val_accuracy: 0.7116\n",
            "Epoch 9/10\n",
            "447/447 [==============================] - 6s 13ms/step - loss: 0.4665 - accuracy: 0.7764 - val_loss: 0.5947 - val_accuracy: 0.7141\n",
            "Epoch 10/10\n",
            "447/447 [==============================] - 6s 13ms/step - loss: 0.4431 - accuracy: 0.7938 - val_loss: 0.6120 - val_accuracy: 0.7026\n"
          ]
        }
      ]
    },
    {
      "cell_type": "code",
      "source": [
        "# Evaluate the model\n",
        "y_pred = model2.predict(test_data)\n",
        "y_pred[y_pred < 0.5] = 0\n",
        "y_pred[y_pred >= 0.5] = 1\n",
        "f1 = f1_score(test_labels, y_pred)\n",
        "\n",
        "print(\"Test F1 score:\", f1)\n",
        "\n",
        "scores_model.append({'Model': 'LSTM with GloVe 27B.Twitter','F1Score': f1})"
      ],
      "metadata": {
        "colab": {
          "base_uri": "https://localhost:8080/"
        },
        "id": "7MaZXBwuucrQ",
        "outputId": "97cf4404-1db6-419d-fa7f-ed85c9702263"
      },
      "execution_count": 110,
      "outputs": [
        {
          "output_type": "stream",
          "name": "stdout",
          "text": [
            "444/444 [==============================] - 2s 4ms/step\n",
            "Test F1 score: 0.7509429514380009\n"
          ]
        }
      ]
    },
    {
      "cell_type": "code",
      "source": [
        "scores_model"
      ],
      "metadata": {
        "colab": {
          "base_uri": "https://localhost:8080/"
        },
        "id": "79e_we4Bw3cg",
        "outputId": "787cd868-30cb-4818-801e-2a3dcaf7f521"
      },
      "execution_count": 82,
      "outputs": [
        {
          "output_type": "execute_result",
          "data": {
            "text/plain": [
              "[{'Model': 'SimpleRNN', 'F1Score': 0.7883505569722186},\n",
              " {'Model': 'LSTM with GloVe 27B.Twitter', 'F1Score': 0.7340129749768305}]"
            ]
          },
          "metadata": {},
          "execution_count": 82
        }
      ]
    },
    {
      "cell_type": "markdown",
      "source": [
        "## GRUs"
      ],
      "metadata": {
        "id": "hEHPoeT3TmxR"
      }
    },
    {
      "cell_type": "code",
      "source": [
        "%%time\n",
        "# GRU with glove embeddings and 1 dense layer\n",
        "model3 = Sequential()\n",
        "model3.add(Embedding(len(word_index) + 1,\n",
        "                     EMBEDDING_DIM,\n",
        "                     weights=[embedding_matrix],\n",
        "                     input_length=MAX_SEQUENCE_LENGTH,\n",
        "                     trainable=False))\n",
        "model3.add(GRU(128, dropout = 0.2, return_sequences=True))\n",
        "model3.add(GRU(64, dropout = 0.2))\n",
        "model3.add(Dense(1, activation='sigmoid'))\n",
        "\n",
        "model3.compile(loss='binary_crossentropy', optimizer='adam',metrics=['accuracy'])   \n",
        "    \n",
        "model3.summary()\n",
        "\n",
        "history3 = model3.fit(X_train_seq, train_labels, validation_data=(X_valid_seq, valid_labels), epochs=10, batch_size=64, callbacks=[EarlyStopping(patience=3)])"
      ],
      "metadata": {
        "colab": {
          "base_uri": "https://localhost:8080/"
        },
        "id": "4MOI-czvTrdC",
        "outputId": "acb0b3cf-7e16-4e65-f6b2-b1b0bbaf69df"
      },
      "execution_count": 102,
      "outputs": [
        {
          "output_type": "stream",
          "name": "stdout",
          "text": [
            "Model: \"sequential_19\"\n",
            "_________________________________________________________________\n",
            " Layer (type)                Output Shape              Param #   \n",
            "=================================================================\n",
            " embedding_18 (Embedding)    (None, 100, 100)          8376300   \n",
            "                                                                 \n",
            " gru_14 (GRU)                (None, 100, 128)          88320     \n",
            "                                                                 \n",
            " gru_15 (GRU)                (None, 64)                37248     \n",
            "                                                                 \n",
            " dense_18 (Dense)            (None, 1)                 65        \n",
            "                                                                 \n",
            "=================================================================\n",
            "Total params: 8,501,933\n",
            "Trainable params: 125,633\n",
            "Non-trainable params: 8,376,300\n",
            "_________________________________________________________________\n",
            "Epoch 1/10\n",
            "447/447 [==============================] - 9s 13ms/step - loss: 0.6869 - accuracy: 0.5453 - val_loss: 0.6805 - val_accuracy: 0.5606\n",
            "Epoch 2/10\n",
            "447/447 [==============================] - 5s 11ms/step - loss: 0.6598 - accuracy: 0.6056 - val_loss: 0.6478 - val_accuracy: 0.6189\n",
            "Epoch 3/10\n",
            "447/447 [==============================] - 5s 11ms/step - loss: 0.6319 - accuracy: 0.6400 - val_loss: 0.6202 - val_accuracy: 0.6533\n",
            "Epoch 4/10\n",
            "447/447 [==============================] - 5s 11ms/step - loss: 0.5978 - accuracy: 0.6741 - val_loss: 0.6006 - val_accuracy: 0.6816\n",
            "Epoch 5/10\n",
            "447/447 [==============================] - 5s 11ms/step - loss: 0.5680 - accuracy: 0.7027 - val_loss: 0.5735 - val_accuracy: 0.7031\n",
            "Epoch 6/10\n",
            "447/447 [==============================] - 5s 12ms/step - loss: 0.5407 - accuracy: 0.7245 - val_loss: 0.5698 - val_accuracy: 0.7027\n",
            "Epoch 7/10\n",
            "447/447 [==============================] - 5s 11ms/step - loss: 0.5201 - accuracy: 0.7399 - val_loss: 0.5616 - val_accuracy: 0.7131\n",
            "Epoch 8/10\n",
            "447/447 [==============================] - 5s 11ms/step - loss: 0.4961 - accuracy: 0.7570 - val_loss: 0.5581 - val_accuracy: 0.7155\n",
            "Epoch 9/10\n",
            "447/447 [==============================] - 5s 11ms/step - loss: 0.4763 - accuracy: 0.7734 - val_loss: 0.5732 - val_accuracy: 0.7166\n",
            "Epoch 10/10\n",
            "447/447 [==============================] - 5s 11ms/step - loss: 0.4557 - accuracy: 0.7834 - val_loss: 0.5865 - val_accuracy: 0.7127\n",
            "CPU times: user 1min 11s, sys: 6.24 s, total: 1min 17s\n",
            "Wall time: 55.6 s\n"
          ]
        }
      ]
    },
    {
      "cell_type": "code",
      "source": [
        "# Evaluate the model\n",
        "y_pred = model3.predict(test_data)\n",
        "y_pred[y_pred < 0.5] = 0\n",
        "y_pred[y_pred >= 0.5] = 1\n",
        "f1 = f1_score(test_labels, y_pred)\n",
        "\n",
        "print(\"Test F1 score:\", f1)\n",
        "\n",
        "scores_model.append({'Model': 'GRU with GloVe 27B.Twitter','F1Score': f1})"
      ],
      "metadata": {
        "colab": {
          "base_uri": "https://localhost:8080/"
        },
        "id": "Y9cYZ0N6T6NZ",
        "outputId": "f77e0dd0-f7ef-491f-e2da-5d85cc5d3fbe"
      },
      "execution_count": 111,
      "outputs": [
        {
          "output_type": "stream",
          "name": "stdout",
          "text": [
            "444/444 [==============================] - 2s 4ms/step\n",
            "Test F1 score: 0.7448190535106712\n"
          ]
        }
      ]
    },
    {
      "cell_type": "markdown",
      "source": [
        "# GRU with Batch Normalization"
      ],
      "metadata": {
        "id": "neRfJXeU2xf_"
      }
    },
    {
      "cell_type": "code",
      "source": [
        "%%time\n",
        "# GRU with glove embeddings and 1 dense layer and batch normalization\n",
        "model4 = Sequential()\n",
        "model4.add(Embedding(len(word_index) + 1,\n",
        "                     EMBEDDING_DIM,\n",
        "                     weights=[embedding_matrix],\n",
        "                     input_length=MAX_SEQUENCE_LENGTH,\n",
        "                     trainable=False))\n",
        "model4.add(BatchNormalization())\n",
        "model4.add(GRU(128, dropout = 0.2, return_sequences=True))\n",
        "model4.add(GRU(64, dropout = 0.2))\n",
        "model4.add(Dense(1, activation='sigmoid'))\n",
        "\n",
        "model4.compile(loss='binary_crossentropy', optimizer='adam',metrics=['accuracy'])   \n",
        "    \n",
        "model4.summary()\n",
        "\n",
        "history4 = model4.fit(X_train_seq, train_labels, validation_data=(X_valid_seq, valid_labels), epochs=10, batch_size=64, callbacks=[EarlyStopping(patience=3)])"
      ],
      "metadata": {
        "colab": {
          "base_uri": "https://localhost:8080/"
        },
        "id": "GkjT9STo23R2",
        "outputId": "3fab60a9-288c-44d2-ce2e-a79bfb973715"
      },
      "execution_count": 85,
      "outputs": [
        {
          "output_type": "stream",
          "name": "stdout",
          "text": [
            "Model: \"sequential_12\"\n",
            "_________________________________________________________________\n",
            " Layer (type)                Output Shape              Param #   \n",
            "=================================================================\n",
            " embedding_12 (Embedding)    (None, 100, 100)          8376300   \n",
            "                                                                 \n",
            " batch_normalization (BatchN  (None, 100, 100)         400       \n",
            " ormalization)                                                   \n",
            "                                                                 \n",
            " gru_4 (GRU)                 (None, 100, 128)          88320     \n",
            "                                                                 \n",
            " gru_5 (GRU)                 (None, 64)                37248     \n",
            "                                                                 \n",
            " dense_12 (Dense)            (None, 1)                 65        \n",
            "                                                                 \n",
            "=================================================================\n",
            "Total params: 8,502,333\n",
            "Trainable params: 125,833\n",
            "Non-trainable params: 8,376,500\n",
            "_________________________________________________________________\n",
            "Epoch 1/10\n",
            "447/447 [==============================] - 10s 13ms/step - loss: 0.6778 - accuracy: 0.5674 - val_loss: 0.6518 - val_accuracy: 0.6168\n",
            "Epoch 2/10\n",
            "447/447 [==============================] - 6s 12ms/step - loss: 0.6138 - accuracy: 0.6646 - val_loss: 0.5856 - val_accuracy: 0.6999\n",
            "Epoch 3/10\n",
            "447/447 [==============================] - 5s 12ms/step - loss: 0.5561 - accuracy: 0.7142 - val_loss: 0.5891 - val_accuracy: 0.6989\n",
            "Epoch 4/10\n",
            "447/447 [==============================] - 5s 12ms/step - loss: 0.5184 - accuracy: 0.7403 - val_loss: 0.5592 - val_accuracy: 0.7280\n",
            "Epoch 5/10\n",
            "447/447 [==============================] - 5s 12ms/step - loss: 0.4908 - accuracy: 0.7627 - val_loss: 0.5594 - val_accuracy: 0.7247\n",
            "Epoch 6/10\n",
            "447/447 [==============================] - 5s 12ms/step - loss: 0.4680 - accuracy: 0.7777 - val_loss: 0.5510 - val_accuracy: 0.7304\n",
            "Epoch 7/10\n",
            "447/447 [==============================] - 5s 12ms/step - loss: 0.4474 - accuracy: 0.7891 - val_loss: 0.5468 - val_accuracy: 0.7410\n",
            "Epoch 8/10\n",
            "447/447 [==============================] - 5s 12ms/step - loss: 0.4235 - accuracy: 0.8052 - val_loss: 0.5534 - val_accuracy: 0.7422\n",
            "Epoch 9/10\n",
            "447/447 [==============================] - 5s 12ms/step - loss: 0.4093 - accuracy: 0.8141 - val_loss: 0.6152 - val_accuracy: 0.7309\n",
            "Epoch 10/10\n",
            "447/447 [==============================] - 5s 12ms/step - loss: 0.3938 - accuracy: 0.8214 - val_loss: 0.5913 - val_accuracy: 0.7338\n",
            "CPU times: user 1min 15s, sys: 6.38 s, total: 1min 22s\n",
            "Wall time: 58.5 s\n"
          ]
        }
      ]
    },
    {
      "cell_type": "code",
      "source": [
        "# Evaluate the model\n",
        "y_pred = model4.predict(test_data)\n",
        "y_pred[y_pred < 0.5] = 0\n",
        "y_pred[y_pred >= 0.5] = 1\n",
        "f1 = f1_score(test_labels, y_pred)\n",
        "\n",
        "print(\"Test F1 score:\", f1)\n",
        "\n",
        "scores_model.append({'Model': 'GRU-Batch Normalization with GloVe 27B.Twitter','F1Score': f1})"
      ],
      "metadata": {
        "colab": {
          "base_uri": "https://localhost:8080/"
        },
        "id": "rCnDszt83dH4",
        "outputId": "9459727c-c461-49e0-b6bf-dc0e3260d206"
      },
      "execution_count": 112,
      "outputs": [
        {
          "output_type": "stream",
          "name": "stdout",
          "text": [
            "444/444 [==============================] - 2s 4ms/step\n",
            "Test F1 score: 0.7692027666545322\n"
          ]
        }
      ]
    },
    {
      "cell_type": "markdown",
      "source": [
        "## Bi-Directional LSTM"
      ],
      "metadata": {
        "id": "1dJsQ_O4UVEo"
      }
    },
    {
      "cell_type": "code",
      "source": [
        "%%time\n",
        "# A simple bidirectional LSTM with glove embeddings and one dense layer\n",
        "model5 = Sequential()\n",
        "model5.add(Embedding(len(word_index) + 1,\n",
        "                     EMBEDDING_DIM,\n",
        "                     weights=[embedding_matrix],\n",
        "                     input_length=MAX_SEQUENCE_LENGTH,\n",
        "                     trainable=False))\n",
        "model5.add(Bidirectional(LSTM(128, dropout=0.2, return_sequences=True)))\n",
        "model5.add(Bidirectional(LSTM(64, dropout=0.2)))\n",
        "model5.add(Dense(1,activation='sigmoid'))\n",
        "model5.compile(loss='binary_crossentropy', optimizer='adam',metrics=['accuracy'])\n",
        "    \n",
        "    \n",
        "model5.summary()\n",
        "\n",
        "history5 = model5.fit(X_train_seq, train_labels, validation_data=(X_valid_seq, valid_labels), epochs=10, batch_size=64, callbacks=[EarlyStopping(patience=3)])"
      ],
      "metadata": {
        "colab": {
          "base_uri": "https://localhost:8080/"
        },
        "id": "y5XACY8UUZOU",
        "outputId": "8a74f4cc-c974-4fa9-d1ff-2f2345ba01cc"
      },
      "execution_count": 88,
      "outputs": [
        {
          "output_type": "stream",
          "name": "stdout",
          "text": [
            "Model: \"sequential_14\"\n",
            "_________________________________________________________________\n",
            " Layer (type)                Output Shape              Param #   \n",
            "=================================================================\n",
            " embedding_13 (Embedding)    (None, 100, 100)          8376300   \n",
            "                                                                 \n",
            " bidirectional (Bidirectiona  (None, 100, 256)         234496    \n",
            " l)                                                              \n",
            "                                                                 \n",
            " bidirectional_1 (Bidirectio  (None, 128)              164352    \n",
            " nal)                                                            \n",
            "                                                                 \n",
            " dense_13 (Dense)            (None, 1)                 129       \n",
            "                                                                 \n",
            "=================================================================\n",
            "Total params: 8,775,277\n",
            "Trainable params: 398,977\n",
            "Non-trainable params: 8,376,300\n",
            "_________________________________________________________________\n",
            "Epoch 1/10\n",
            "447/447 [==============================] - 18s 24ms/step - loss: 0.6844 - accuracy: 0.5482 - val_loss: 0.6720 - val_accuracy: 0.5800\n",
            "Epoch 2/10\n",
            "447/447 [==============================] - 9s 21ms/step - loss: 0.6589 - accuracy: 0.6084 - val_loss: 0.6524 - val_accuracy: 0.6219\n",
            "Epoch 3/10\n",
            "447/447 [==============================] - 9s 21ms/step - loss: 0.6307 - accuracy: 0.6451 - val_loss: 0.6238 - val_accuracy: 0.6526\n",
            "Epoch 4/10\n",
            "447/447 [==============================] - 9s 21ms/step - loss: 0.5980 - accuracy: 0.6807 - val_loss: 0.6210 - val_accuracy: 0.6699\n",
            "Epoch 5/10\n",
            "447/447 [==============================] - 9s 21ms/step - loss: 0.5625 - accuracy: 0.7097 - val_loss: 0.5853 - val_accuracy: 0.6997\n",
            "Epoch 6/10\n",
            "447/447 [==============================] - 9s 21ms/step - loss: 0.5314 - accuracy: 0.7351 - val_loss: 0.5875 - val_accuracy: 0.7051\n",
            "Epoch 7/10\n",
            "447/447 [==============================] - 9s 21ms/step - loss: 0.5165 - accuracy: 0.7477 - val_loss: 0.5736 - val_accuracy: 0.7112\n",
            "Epoch 8/10\n",
            "447/447 [==============================] - 9s 21ms/step - loss: 0.4716 - accuracy: 0.7761 - val_loss: 0.5654 - val_accuracy: 0.7159\n",
            "Epoch 9/10\n",
            "447/447 [==============================] - 9s 21ms/step - loss: 0.4456 - accuracy: 0.7907 - val_loss: 0.5696 - val_accuracy: 0.7210\n",
            "Epoch 10/10\n",
            "447/447 [==============================] - 9s 21ms/step - loss: 0.4109 - accuracy: 0.8105 - val_loss: 0.6006 - val_accuracy: 0.7129\n",
            "CPU times: user 2min 15s, sys: 13.1 s, total: 2min 28s\n",
            "Wall time: 1min 42s\n"
          ]
        }
      ]
    },
    {
      "cell_type": "code",
      "source": [
        "# Evaluate the model\n",
        "y_pred = model5.predict(test_data)\n",
        "y_pred[y_pred < 0.5] = 0\n",
        "y_pred[y_pred >= 0.5] = 1\n",
        "f1 = f1_score(test_labels, y_pred)\n",
        "\n",
        "print(\"Test F1 score:\", f1)\n",
        "\n",
        "scores_model.append({'Model': 'Bi_directional LSTM with GloVe 27B.Twitter','F1Score': f1})"
      ],
      "metadata": {
        "colab": {
          "base_uri": "https://localhost:8080/"
        },
        "id": "uv3VWHS2VKIR",
        "outputId": "34605712-ea90-4f33-8d10-ad1f5ad8a38b"
      },
      "execution_count": 113,
      "outputs": [
        {
          "output_type": "stream",
          "name": "stdout",
          "text": [
            "444/444 [==============================] - 3s 7ms/step\n",
            "Test F1 score: 0.7043416370106761\n"
          ]
        }
      ]
    },
    {
      "cell_type": "code",
      "source": [
        "scores_model"
      ],
      "metadata": {
        "colab": {
          "base_uri": "https://localhost:8080/"
        },
        "id": "6rTbknlxUAG3",
        "outputId": "0b776d7a-74e8-453c-b2c9-7525c820350b"
      },
      "execution_count": 114,
      "outputs": [
        {
          "output_type": "execute_result",
          "data": {
            "text/plain": [
              "[{'Model': 'SimpleRNN', 'F1Score': 0.7226845637583892},\n",
              " {'Model': 'LSTM with GloVe 27B.Twitter', 'F1Score': 0.7509429514380009},\n",
              " {'Model': 'GRU with GloVe 27B.Twitter', 'F1Score': 0.7448190535106712},\n",
              " {'Model': 'GRU-Batch Normalization with GloVe 27B.Twitter',\n",
              "  'F1Score': 0.7692027666545322},\n",
              " {'Model': 'Bi_directional LSTM with GloVe 27B.Twitter',\n",
              "  'F1Score': 0.7043416370106761}]"
            ]
          },
          "metadata": {},
          "execution_count": 114
        }
      ]
    },
    {
      "cell_type": "markdown",
      "source": [
        "# Collect all Network Architectures"
      ],
      "metadata": {
        "id": "M76g5Ra99tnR"
      }
    },
    {
      "cell_type": "code",
      "source": [
        "tf.keras.utils.plot_model(model1, to_file='Simple_RNN.png', show_shapes=True, show_layer_names=True)\n",
        "tf.keras.utils.plot_model(model2, to_file='Deep_LSTM_with_GloVe_embeddings.png', show_shapes=True, show_layer_names=True)\n",
        "tf.keras.utils.plot_model(model3, to_file='Deep_GRU_with_GloVe_embeddings.png', show_shapes=True, show_layer_names=True)\n",
        "tf.keras.utils.plot_model(model4, to_file='Deep_GRU_with_BatchNormalization_with_GloVe_embeddings.png', show_shapes=True, show_layer_names=True)\n",
        "tf.keras.utils.plot_model(model5, to_file='Deep_Bi-LSTM_with_GloVe_embeddings.png', show_shapes=True, show_layer_names=True)"
      ],
      "metadata": {
        "colab": {
          "base_uri": "https://localhost:8080/",
          "height": 533
        },
        "id": "LOUiA37wJzqA",
        "outputId": "34112041-5df1-4d75-92c0-1ba8f190dd31"
      },
      "execution_count": 115,
      "outputs": [
        {
          "output_type": "execute_result",
          "data": {
            "image/png": "[encoded data removed]",
            "text/plain": [
              "<IPython.core.display.Image object>"
            ]
          },
          "metadata": {},
          "execution_count": 115
        }
      ]
    },
    {
      "cell_type": "markdown",
      "source": [
        "# Redo with GloVe, ELMo and BERT"
      ],
      "metadata": {
        "id": "d3KkpWE45On4"
      }
    },
    {
      "cell_type": "code",
      "source": [
        "!pip install transformers\n",
        "!pip install sentencepiece"
      ],
      "metadata": {
        "colab": {
          "base_uri": "https://localhost:8080/"
        },
        "id": "3ngL_bCAHaxj",
        "outputId": "18579522-2988-4fb7-ed16-542be130ea20"
      },
      "execution_count": 24,
      "outputs": [
        {
          "output_type": "stream",
          "name": "stdout",
          "text": [
            "Looking in indexes: https://pypi.org/simple, https://us-python.pkg.dev/colab-wheels/public/simple/\n",
            "Collecting transformers\n",
            "  Downloading transformers-4.27.1-py3-none-any.whl (6.7 MB)\n",
            "\u001b[2K     \u001b[90m━━━━━━━━━━━━━━━━━━━━━━━━━━━━━━━━━━━━━━━━\u001b[0m \u001b[32m6.7/6.7 MB\u001b[0m \u001b[31m67.8 MB/s\u001b[0m eta \u001b[36m0:00:00\u001b[0m\n",
            "\u001b[?25hRequirement already satisfied: requests in /usr/local/lib/python3.9/dist-packages (from transformers) (2.27.1)\n",
            "Requirement already satisfied: filelock in /usr/local/lib/python3.9/dist-packages (from transformers) (3.10.0)\n",
            "Collecting tokenizers!=0.11.3,<0.14,>=0.11.1\n",
            "  Downloading tokenizers-0.13.2-cp39-cp39-manylinux_2_17_x86_64.manylinux2014_x86_64.whl (7.6 MB)\n",
            "\u001b[2K     \u001b[90m━━━━━━━━━━━━━━━━━━━━━━━━━━━━━━━━━━━━━━━━\u001b[0m \u001b[32m7.6/7.6 MB\u001b[0m \u001b[31m104.9 MB/s\u001b[0m eta \u001b[36m0:00:00\u001b[0m\n",
            "\u001b[?25hRequirement already satisfied: numpy>=1.17 in /usr/local/lib/python3.9/dist-packages (from transformers) (1.22.4)\n",
            "Requirement already satisfied: regex!=2019.12.17 in /usr/local/lib/python3.9/dist-packages (from transformers) (2022.10.31)\n",
            "Requirement already satisfied: packaging>=20.0 in /usr/local/lib/python3.9/dist-packages (from transformers) (23.0)\n",
            "Requirement already satisfied: pyyaml>=5.1 in /usr/local/lib/python3.9/dist-packages (from transformers) (6.0)\n",
            "Collecting huggingface-hub<1.0,>=0.11.0\n",
            "  Downloading huggingface_hub-0.13.2-py3-none-any.whl (199 kB)\n",
            "\u001b[2K     \u001b[90m━━━━━━━━━━━━━━━━━━━━━━━━━━━━━━━━━━━━━━\u001b[0m \u001b[32m199.2/199.2 KB\u001b[0m \u001b[31m27.9 MB/s\u001b[0m eta \u001b[36m0:00:00\u001b[0m\n",
            "\u001b[?25hRequirement already satisfied: tqdm>=4.27 in /usr/local/lib/python3.9/dist-packages (from transformers) (4.65.0)\n",
            "Requirement already satisfied: typing-extensions>=3.7.4.3 in /usr/local/lib/python3.9/dist-packages (from huggingface-hub<1.0,>=0.11.0->transformers) (4.5.0)\n",
            "Requirement already satisfied: idna<4,>=2.5 in /usr/local/lib/python3.9/dist-packages (from requests->transformers) (3.4)\n",
            "Requirement already satisfied: charset-normalizer~=2.0.0 in /usr/local/lib/python3.9/dist-packages (from requests->transformers) (2.0.12)\n",
            "Requirement already satisfied: urllib3<1.27,>=1.21.1 in /usr/local/lib/python3.9/dist-packages (from requests->transformers) (1.26.15)\n",
            "Requirement already satisfied: certifi>=2017.4.17 in /usr/local/lib/python3.9/dist-packages (from requests->transformers) (2022.12.7)\n",
            "Installing collected packages: tokenizers, huggingface-hub, transformers\n",
            "Successfully installed huggingface-hub-0.13.2 tokenizers-0.13.2 transformers-4.27.1\n"
          ]
        }
      ]
    },
    {
      "cell_type": "code",
      "source": [
        "import torch\n",
        "from transformers import TFBertModel, BertTokenizer"
      ],
      "metadata": {
        "id": "o7xeKoDixszd"
      },
      "execution_count": 50,
      "outputs": []
    },
    {
      "cell_type": "code",
      "source": [
        "# Load pre-trained BERT model and tokenizer\n",
        "model_name = 'bert-base-uncased'\n",
        "tokenizer = BertTokenizer.from_pretrained(model_name)\n",
        "bert_model = TFBertModel.from_pretrained(model_name)"
      ],
      "metadata": {
        "colab": {
          "base_uri": "https://localhost:8080/"
        },
        "id": "egnxdy_MyMu6",
        "outputId": "b5f17a09-ddfb-426e-bafa-25bb844b2ccd"
      },
      "execution_count": 67,
      "outputs": [
        {
          "output_type": "stream",
          "name": "stderr",
          "text": [
            "Some layers from the model checkpoint at bert-base-uncased were not used when initializing TFBertModel: ['nsp___cls', 'mlm___cls']\n",
            "- This IS expected if you are initializing TFBertModel from the checkpoint of a model trained on another task or with another architecture (e.g. initializing a BertForSequenceClassification model from a BertForPreTraining model).\n",
            "- This IS NOT expected if you are initializing TFBertModel from the checkpoint of a model that you expect to be exactly identical (initializing a BertForSequenceClassification model from a BertForSequenceClassification model).\n",
            "All the layers of TFBertModel were initialized from the model checkpoint at bert-base-uncased.\n",
            "If your task is similar to the task the model of the checkpoint was trained on, you can already use TFBertModel for predictions without further training.\n"
          ]
        }
      ]
    },
    {
      "cell_type": "code",
      "source": [
        "# Tokenize the text data using the tokenizer\n",
        "max_length = 256\n",
        "X = [tokenizer.encode(text, max_length=max_length, pad_to_max_length=True) for text in df['body']]\n",
        "Y = df['label'].values\n",
        "\n",
        "# Convert the input sequences and labels to TensorFlow tensors\n",
        "X = tf.convert_to_tensor(X)\n",
        "Y = tf.convert_to_tensor(Y)"
      ],
      "metadata": {
        "id": "QQYmrT6W9KwO"
      },
      "execution_count": 106,
      "outputs": []
    },
    {
      "cell_type": "code",
      "source": [
        "# Split the data into training and validation sets\n",
        "train_size = int(0.5 * len(df))\n",
        "train_X, val_X = X[:train_size], X[train_size:]\n",
        "train_Y, val_Y = Y[:train_size], Y[train_size:]\n",
        "#test_size = int(0.5 * len(val_X))\n",
        "#val_X, test_X = val_X[:test_size], val_X[test_size:]\n",
        "#val_Y, test_Y = val_Y[:test_size], val_Y[test_size:]"
      ],
      "metadata": {
        "id": "hutOk7GA9SmW"
      },
      "execution_count": 114,
      "outputs": []
    },
    {
      "cell_type": "code",
      "source": [
        "# Define the model architecture\n",
        "input_layer = tf.keras.layers.Input(shape=(max_length,), dtype=tf.int32, name='input_layer')\n",
        "embedding_layer = bert_model(input_layer)[0]\n",
        "pooling_layer = tf.keras.layers.GlobalMaxPool1D()(embedding_layer)\n",
        "output_layer = tf.keras.layers.Dense(1, activation='sigmoid')(pooling_layer)\n",
        "model = tf.keras.models.Model(inputs=input_layer, outputs=output_layer)\n",
        "\n",
        "# Compile the model\n",
        "model.compile(loss='binary_crossentropy', optimizer='adam', metrics=['accuracy'])\n",
        "\n",
        "# Train the model\n",
        "history = model.fit(train_X, train_Y, epochs=3, batch_size=64, validation_data=(val_X, val_Y))"
      ],
      "metadata": {
        "colab": {
          "base_uri": "https://localhost:8080/"
        },
        "id": "mWB0Equc9WDe",
        "outputId": "7fe37fea-db00-447b-d792-41604446e791"
      },
      "execution_count": 115,
      "outputs": [
        {
          "output_type": "stream",
          "name": "stdout",
          "text": [
            "Epoch 1/3\n"
          ]
        },
        {
          "output_type": "stream",
          "name": "stderr",
          "text": [
            "WARNING:tensorflow:Gradients do not exist for variables ['tf_bert_model_2/bert/pooler/dense/kernel:0', 'tf_bert_model_2/bert/pooler/dense/bias:0'] when minimizing the loss. If you're using `model.compile()`, did you forget to provide a `loss` argument?\n",
            "WARNING:tensorflow:Gradients do not exist for variables ['tf_bert_model_2/bert/pooler/dense/kernel:0', 'tf_bert_model_2/bert/pooler/dense/bias:0'] when minimizing the loss. If you're using `model.compile()`, did you forget to provide a `loss` argument?\n",
            "WARNING:tensorflow:Gradients do not exist for variables ['tf_bert_model_2/bert/pooler/dense/kernel:0', 'tf_bert_model_2/bert/pooler/dense/bias:0'] when minimizing the loss. If you're using `model.compile()`, did you forget to provide a `loss` argument?\n",
            "WARNING:tensorflow:Gradients do not exist for variables ['tf_bert_model_2/bert/pooler/dense/kernel:0', 'tf_bert_model_2/bert/pooler/dense/bias:0'] when minimizing the loss. If you're using `model.compile()`, did you forget to provide a `loss` argument?\n"
          ]
        },
        {
          "output_type": "stream",
          "name": "stdout",
          "text": [
            "711/711 [==============================] - 381s 477ms/step - loss: 0.6922 - accuracy: 0.5237 - val_loss: 0.7007 - val_accuracy: 0.4715\n",
            "Epoch 2/3\n",
            "711/711 [==============================] - 335s 472ms/step - loss: 0.6920 - accuracy: 0.5260 - val_loss: 0.6938 - val_accuracy: 0.4715\n",
            "Epoch 3/3\n",
            "711/711 [==============================] - 335s 472ms/step - loss: 0.6920 - accuracy: 0.5260 - val_loss: 0.6920 - val_accuracy: 0.5285\n"
          ]
        }
      ]
    },
    {
      "cell_type": "code",
      "source": [
        "# Evaluate model on test set\n",
        "y_pred = np.round(model.predict(test_X))\n",
        "print(classification_report(test_Y, y_pred))"
      ],
      "metadata": {
        "colab": {
          "base_uri": "https://localhost:8080/"
        },
        "id": "9HQkzOpVBs3I",
        "outputId": "42bfcd5b-bbf9-426a-c7f4-43b61368265f"
      },
      "execution_count": 116,
      "outputs": [
        {
          "output_type": "stream",
          "name": "stdout",
          "text": [
            "711/711 [==============================] - 53s 70ms/step\n",
            "              precision    recall  f1-score   support\n",
            "\n",
            "           0       0.00      0.00      0.00     10746\n",
            "           1       0.53      1.00      0.69     11979\n",
            "\n",
            "    accuracy                           0.53     22725\n",
            "   macro avg       0.26      0.50      0.35     22725\n",
            "weighted avg       0.28      0.53      0.36     22725\n",
            "\n"
          ]
        },
        {
          "output_type": "stream",
          "name": "stderr",
          "text": [
            "/usr/local/lib/python3.9/dist-packages/sklearn/metrics/_classification.py:1344: UndefinedMetricWarning: Precision and F-score are ill-defined and being set to 0.0 in labels with no predicted samples. Use `zero_division` parameter to control this behavior.\n",
            "  _warn_prf(average, modifier, msg_start, len(result))\n",
            "/usr/local/lib/python3.9/dist-packages/sklearn/metrics/_classification.py:1344: UndefinedMetricWarning: Precision and F-score are ill-defined and being set to 0.0 in labels with no predicted samples. Use `zero_division` parameter to control this behavior.\n",
            "  _warn_prf(average, modifier, msg_start, len(result))\n",
            "/usr/local/lib/python3.9/dist-packages/sklearn/metrics/_classification.py:1344: UndefinedMetricWarning: Precision and F-score are ill-defined and being set to 0.0 in labels with no predicted samples. Use `zero_division` parameter to control this behavior.\n",
            "  _warn_prf(average, modifier, msg_start, len(result))\n"
          ]
        }
      ]
    },
    {
      "cell_type": "code",
      "source": [
        "tf.keras.utils.plot_model(model, show_shapes=True, show_layer_names=True)"
      ],
      "metadata": {
        "colab": {
          "base_uri": "https://localhost:8080/",
          "height": 166
        },
        "id": "pOLVVGUhRXxs",
        "outputId": "1f38e041-2d86-49c3-e439-444a9f9236ad"
      },
      "execution_count": 136,
      "outputs": [
        {
          "output_type": "error",
          "ename": "NameError",
          "evalue": "ignored",
          "traceback": [
            "\u001b[0;31m---------------------------------------------------------------------------\u001b[0m",
            "\u001b[0;31mNameError\u001b[0m                                 Traceback (most recent call last)",
            "\u001b[0;32m<ipython-input-136-6c124d4fc2ec>\u001b[0m in \u001b[0;36m<module>\u001b[0;34m\u001b[0m\n\u001b[0;32m----> 1\u001b[0;31m \u001b[0mtf\u001b[0m\u001b[0;34m.\u001b[0m\u001b[0mkeras\u001b[0m\u001b[0;34m.\u001b[0m\u001b[0mutils\u001b[0m\u001b[0;34m.\u001b[0m\u001b[0mplot_model\u001b[0m\u001b[0;34m(\u001b[0m\u001b[0mmodel\u001b[0m\u001b[0;34m,\u001b[0m \u001b[0mshow_shapes\u001b[0m\u001b[0;34m=\u001b[0m\u001b[0;32mTrue\u001b[0m\u001b[0;34m,\u001b[0m \u001b[0mshow_layer_names\u001b[0m\u001b[0;34m=\u001b[0m\u001b[0;32mTrue\u001b[0m\u001b[0;34m)\u001b[0m\u001b[0;34m\u001b[0m\u001b[0;34m\u001b[0m\u001b[0m\n\u001b[0m",
            "\u001b[0;31mNameError\u001b[0m: name 'model' is not defined"
          ]
        }
      ]
    }
  ]
}